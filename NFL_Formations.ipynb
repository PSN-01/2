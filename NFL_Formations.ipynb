{
  "nbformat": 4,
  "nbformat_minor": 0,
  "metadata": {
    "colab": {
      "provenance": [],
      "authorship_tag": "ABX9TyOnJzoWYQRBrTLybW/DLISe",
      "include_colab_link": true
    },
    "kernelspec": {
      "name": "python3",
      "display_name": "Python 3"
    },
    "language_info": {
      "name": "python"
    }
  },
  "cells": [
    {
      "cell_type": "markdown",
      "metadata": {
        "id": "view-in-github",
        "colab_type": "text"
      },
      "source": [
        "<a href=\"https://colab.research.google.com/github/PSN-01/2/blob/main/NFL_Formations.ipynb\" target=\"_parent\"><img src=\"https://colab.research.google.com/assets/colab-badge.svg\" alt=\"Open In Colab\"/></a>"
      ]
    },
    {
      "cell_type": "code",
      "execution_count": null,
      "metadata": {
        "id": "bOysMt1eZoZM"
      },
      "outputs": [],
      "source": [
        "#DOWNLOAD THEM FIRST!\n",
        "!pip install nfl_data_py"
      ]
    },
    {
      "cell_type": "markdown",
      "source": [
        "# ***`TOP 5 MOST USED FORMATIONS AND LOOKS BY TEAM - SINCE 2016`***"
      ],
      "metadata": {
        "id": "CPoQdBy7efvD"
      }
    },
    {
      "cell_type": "code",
      "source": [
        "import nfl_data_py as nfl\n",
        "\n",
        "# Function to get the top 5 offensive and defensive formations for a team\n",
        "\n",
        "def get_top_formations_by_team_and_year(team_abbr, year):\n",
        "    # Import Play-by-Play data for the selected year\n",
        "    pbp_data = nfl.import_pbp_data([year])\n",
        "\n",
        "    # Filter data by the selected team (both offense and defense)\n",
        "    team_offense = pbp_data[pbp_data['posteam'] == team_abbr]\n",
        "    team_defense = pbp_data[pbp_data['defteam'] == team_abbr]\n",
        "\n",
        "    # Group by offensive formations and count the occurrences\n",
        "    top_offensive_formations = team_offense['offense_formation'].value_counts().head(5)\n",
        "\n",
        "    # Group by defensive personnel and count the occurrences\n",
        "    top_defensive_formations = team_defense['defense_personnel'].value_counts().head(5)\n",
        "\n",
        "    return top_offensive_formations, top_defensive_formations\n",
        "\n",
        "# Load team descriptions\n",
        "teams = nfl.import_team_desc()\n",
        "\n",
        "\n",
        "# Only include teams active after 2016\n",
        "filtered_teams = teams[~teams['team_abbr'].isin(['STL', 'SD', 'OAK', 'LAR'])]\n",
        "\n",
        "\n",
        "print(\"Available teams starting from the 2016 season:\")\n",
        "print(filtered_teams[['team_abbr', 'team_name']])\n",
        "\n",
        "\n",
        "team_abbr = input(\"\\nEnter the team abbreviation: \")\n",
        "\n",
        "\n",
        "year = int(input(\"Enter the year (2016 - 2024): \"))\n",
        "while year < 2016 or year > 2024:\n",
        "    year = int(input(\"Please enter a valid year between 2016 and 2024: \"))\n",
        "\n",
        "\n",
        "offensive_formations, defensive_formations = get_top_formations_by_team_and_year(team_abbr, year)\n",
        "\n",
        "#\n",
        "print(f\"\\nTop 5 offensive formations for {team_abbr} in {year}:\")\n",
        "print(offensive_formations)\n",
        "\n",
        "print(f\"\\nTop 5 defensive formations for {team_abbr} in {year}:\")\n",
        "print(defensive_formations)\n"
      ],
      "metadata": {
        "colab": {
          "base_uri": "https://localhost:8080/"
        },
        "id": "EhJA-6THZw5O",
        "outputId": "ad608035-dfd3-4948-90bd-f316cc4dc732"
      },
      "execution_count": null,
      "outputs": [
        {
          "output_type": "stream",
          "name": "stdout",
          "text": [
            "Available teams starting from the 2016 season:\n",
            "   team_abbr              team_name\n",
            "0        ARI      Arizona Cardinals\n",
            "1        ATL        Atlanta Falcons\n",
            "2        BAL       Baltimore Ravens\n",
            "3        BUF          Buffalo Bills\n",
            "4        CAR      Carolina Panthers\n",
            "5        CHI          Chicago Bears\n",
            "6        CIN     Cincinnati Bengals\n",
            "7        CLE       Cleveland Browns\n",
            "8        DAL         Dallas Cowboys\n",
            "9        DEN         Denver Broncos\n",
            "10       DET          Detroit Lions\n",
            "11        GB      Green Bay Packers\n",
            "12       HOU         Houston Texans\n",
            "13       IND     Indianapolis Colts\n",
            "14       JAX   Jacksonville Jaguars\n",
            "15        KC     Kansas City Chiefs\n",
            "16        LA       Los Angeles Rams\n",
            "17       LAC   Los Angeles Chargers\n",
            "19        LV      Las Vegas Raiders\n",
            "20       MIA         Miami Dolphins\n",
            "21       MIN      Minnesota Vikings\n",
            "22        NE   New England Patriots\n",
            "23        NO     New Orleans Saints\n",
            "24       NYG        New York Giants\n",
            "25       NYJ          New York Jets\n",
            "27       PHI    Philadelphia Eagles\n",
            "28       PIT    Pittsburgh Steelers\n",
            "30       SEA       Seattle Seahawks\n",
            "31        SF    San Francisco 49ers\n",
            "33        TB   Tampa Bay Buccaneers\n",
            "34       TEN       Tennessee Titans\n",
            "35       WAS  Washington Commanders\n",
            "\n",
            "Enter the team abbreviation: SF\n",
            "Enter the year (2016 - 2024): 2023\n",
            "2023 done.\n",
            "Downcasting floats.\n",
            "\n",
            "Top 5 offensive formations for SF in 2023:\n",
            "SHOTGUN       510\n",
            "SINGLEBACK    290\n",
            "EMPTY         125\n",
            "I_FORM        118\n",
            "PISTOL         47\n",
            "Name: offense_formation, dtype: int64\n",
            "\n",
            "Top 5 defensive formations for SF in 2023:\n",
            "4 DL, 2 LB, 5 DB    703\n",
            "3 DL, 3 LB, 5 DB    250\n",
            "4 DL, 3 LB, 4 DB    198\n",
            "3 DL, 4 LB, 4 DB     51\n",
            "5 DL, 2 LB, 4 DB      7\n",
            "Name: defense_personnel, dtype: int64\n"
          ]
        }
      ]
    }
  ]
}